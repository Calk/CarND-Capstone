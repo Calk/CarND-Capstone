{
 "cells": [
  {
   "cell_type": "code",
   "execution_count": 7,
   "metadata": {
    "collapsed": false
   },
   "outputs": [
    {
     "name": "stdout",
     "output_type": "stream",
     "text": [
      "Populating the interactive namespace from numpy and matplotlib\n"
     ]
    }
   ],
   "source": [
    "%pylab inline"
   ]
  },
  {
   "cell_type": "code",
   "execution_count": 42,
   "metadata": {
    "collapsed": false
   },
   "outputs": [],
   "source": [
    "class JerkMinimizingTrajectory:\n",
    "    \n",
    "    def __init__(self, x0, v0, a0, x1, v1, a1, t):\n",
    "        \n",
    "        self.c0 = x0\n",
    "        self.c1 = v0\n",
    "        self.c2 = .5*a0\n",
    "        \n",
    "        r1 = x1 - self.c0 - self.c1 - self.c2\n",
    "        r2 = v1 - self.c1 - 2*self.c2\n",
    "        r3 = a1 - 2*self.c2\n",
    "        \n",
    "        self.c3 = 10*r1-4*r2+.5*r3\n",
    "        self.c4 = -15*r1+7*r2-1*r3\n",
    "        self.c5 = 6*r1-3*r2+.5*r3\n",
    "\n",
    "        self.c1 /= t\n",
    "        self.c2 /= t*t\n",
    "        self.c3 /= t*t*t\n",
    "        self.c4 /= t*t*t*t\n",
    "        self.c5 /= t*t*t*t*t\n",
    "    \n",
    "    def s(self, t):\n",
    "        return self.c0 + t * (self.c1 + t*(self.c2 + t*(self.c3 + t*(self.c4 + t * self.c5))))\n",
    "    \n",
    "    def v(self, t):\n",
    "        return self.c1 + t*(2*self.c2 + t*(3*self.c3 + t*(4*self.c4 + t * 5*self.c5)))\n",
    "\n",
    "    def a(self, t):\n",
    "        return 2*self.c2 + t*(2*3*self.c3 + t*(3*4*self.c4 + t * 4*5*self.c5))"
   ]
  },
  {
   "cell_type": "code",
   "execution_count": 47,
   "metadata": {
    "collapsed": false
   },
   "outputs": [
    {
     "data": {
      "text/plain": [
       "[<matplotlib.lines.Line2D at 0x11475bf98>]"
      ]
     },
     "execution_count": 47,
     "metadata": {},
     "output_type": "execute_result"
    },
    {
     "data": {
      "image/png": "[encoded data removed]",
      "text/plain": [
       "<matplotlib.figure.Figure at 0x11467d908>"
      ]
     },
     "metadata": {},
     "output_type": "display_data"
    }
   ],
   "source": [
    "jmt = JerkMinimizingTrajectory(0,1,0,1,0,0, 2)\n",
    "\n",
    "\n",
    "ls = linspace(0,2)\n",
    "plot(ls, jmt.s(ls))\n",
    "plot(ls, jmt.v(ls))"
   ]
  }
 ],
 "metadata": {
  "kernelspec": {
   "display_name": "Python 3",
   "language": "python",
   "name": "python3"
  },
  "language_info": {
   "codemirror_mode": {
    "name": "ipython",
    "version": 3
   },
   "file_extension": ".py",
   "mimetype": "text/x-python",
   "name": "python",
   "nbconvert_exporter": "python",
   "pygments_lexer": "ipython3",
   "version": "3.5.0"
  }
 },
 "nbformat": 4,
 "nbformat_minor": 0
}
